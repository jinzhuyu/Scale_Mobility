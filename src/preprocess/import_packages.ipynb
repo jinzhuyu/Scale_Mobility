{
 "cells": [
  {
   "cell_type": "code",
   "execution_count": 2,
   "id": "047b606f",
   "metadata": {},
   "outputs": [
    {
     "name": "stdout",
     "output_type": "stream",
     "text": [
      "success\n"
     ]
    }
   ],
   "source": [
    "import os\n",
    "import networkx as nx\n",
    "import numpy as np\n",
    "\n",
    "from collections import defaultdict,Counter\n",
    "import datetime\n",
    "import json\n",
    "import math\n",
    "import pickle\n",
    "from numpy import linspace, zeros, abs\n",
    "import scipy as sp\n",
    "import numpy as np\n",
    "from operator import itemgetter\n",
    "import dictlib\n",
    "import math\n",
    "import pickle\n",
    "import random\n",
    "from scipy.stats import pearsonr\n",
    "import json\n",
    "from collections import defaultdict\n",
    "from scipy.interpolate import CubicSpline\n",
    "import scipy.optimize as opt\n",
    "import scipy.stats\n",
    "import pandas as pd\n",
    "from sklearn import linear_model\n",
    "import statsmodels.api as sm\n",
    "import copy\n",
    "from scipy.integrate import solve_ivp\n",
    "from scipy.optimize import minimize\n",
    "from scipy import interpolate\n",
    "from sklearn.linear_model import LinearRegression\n",
    "from sklearn.preprocessing import PolynomialFeatures\n",
    "from statsmodels.stats.outliers_influence import summary_table\n",
    "from sklearn import linear_model\n",
    "from itertools import accumulate\n",
    "import ast\n",
    "from sklearn.datasets import load_iris\n",
    "from factor_analyzer import FactorAnalyzer\n",
    "from factor_analyzer.factor_analyzer import calculate_bartlett_sphericity\n",
    "from factor_analyzer.factor_analyzer import calculate_kmo\n",
    "import seaborn as sns\n",
    "import matplotlib.pyplot as plt\n",
    "from scipy.optimize import curve_fit\n",
    "\n",
    "import uncertainties as unc\n",
    "import uncertainties.unumpy as unp\n",
    "\n",
    "from sklearn.metrics import r2_score\n",
    "\n",
    "from statsmodels.tools.eval_measures import rmse\n",
    "\n",
    "from sklearn.cluster import KMeans\n",
    "\n",
    "from sklearn.metrics import pairwise_distances_argmin\n",
    "\n",
    "from mpl_toolkits import mplot3d\n",
    "\n",
    "import plotly.graph_objects as go\n",
    "\n",
    "from sklearn.metrics import accuracy_score, f1_score, precision_score, recall_score, classification_report, confusion_matrix\n",
    "\n",
    "import matplotlib.cm as cm\n",
    "from scipy import stats\n",
    "from scipy.optimize import minimize\n",
    "from scipy import interpolate\n",
    "from scipy.stats import truncnorm\n",
    "import matplotlib as mpl\n",
    "from itertools import permutations\n",
    "from itertools import combinations_with_replacement\n",
    "\n",
    "import itertools\n",
    "import os\n",
    "os.chdir(\"/Users/lucinezhong/Documents/LuZHONGResearch/20210328Scale_Mobility/\")\n",
    "print('success')"
   ]
  },
  {
   "cell_type": "code",
   "execution_count": null,
   "id": "505ab764",
   "metadata": {},
   "outputs": [],
   "source": []
  }
 ],
 "metadata": {
  "kernelspec": {
   "display_name": "Python [conda env:.conda-PDE-COVID]",
   "language": "python",
   "name": "conda-env-.conda-PDE-COVID-py"
  },
  "language_info": {
   "codemirror_mode": {
    "name": "ipython",
    "version": 3
   },
   "file_extension": ".py",
   "mimetype": "text/x-python",
   "name": "python",
   "nbconvert_exporter": "python",
   "pygments_lexer": "ipython3",
   "version": "3.6.10"
  }
 },
 "nbformat": 4,
 "nbformat_minor": 5
}
